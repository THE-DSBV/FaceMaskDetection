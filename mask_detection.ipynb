{
 "cells": [
  {
   "cell_type": "code",
   "execution_count": 1,
   "id": "bb65ad7d",
   "metadata": {},
   "outputs": [],
   "source": [
    "import numpy as np\n",
    "import tensorflow as tf\n",
    "import cv2"
   ]
  },
  {
   "cell_type": "code",
   "execution_count": 2,
   "id": "a4aab6c1",
   "metadata": {},
   "outputs": [
    {
     "name": "stdout",
     "output_type": "stream",
     "text": [
      "WARNING:tensorflow:From C:\\Users\\ExcellentMo3\\AppData\\Local\\Temp\\ipykernel_36376\\1648136879.py:14: The name tf.Session is deprecated. Please use tf.compat.v1.Session instead.\n",
      "\n",
      "WARNING:tensorflow:From C:\\Users\\ExcellentMo3\\AppData\\Local\\Temp\\ipykernel_36376\\1648136879.py:15: The name tf.saved_model.tag_constants.SERVING is deprecated. Please use tf.saved_model.SERVING instead.\n",
      "\n",
      "WARNING:tensorflow:From C:\\Users\\ExcellentMo3\\AppData\\Local\\Temp\\ipykernel_36376\\1648136879.py:15: load (from tensorflow.python.saved_model.loader_impl) is deprecated and will be removed in a future version.\n",
      "Instructions for updating:\n",
      "This function will only be available through the v1 compatibility library as tf.compat.v1.saved_model.loader.load or tf.compat.v1.saved_model.load. There will be a new function for importing SavedModels in Tensorflow 2.0.\n",
      "INFO:tensorflow:Restoring parameters from C:\\Users\\ExcellentMo3\\ActualFiles\\DEEP 2022\\code\\mask_detection\\saved_model\\variables\\variables\n"
     ]
    }
   ],
   "source": [
    "label_list = ['NaN', 'Masked', 'Unmasked']\n",
    "\n",
    "cap = cv2.VideoCapture(0)\n",
    "frame_height = cap.get(cv2.CAP_PROP_FRAME_HEIGHT)\n",
    "frame_width = cap.get(cv2.CAP_PROP_FRAME_WIDTH)\n",
    "cv2.namedWindow(\"Webcam frame\", cv2.WINDOW_AUTOSIZE)\n",
    "cv2.namedWindow(\"Detection frame\", cv2.WINDOW_AUTOSIZE)\n",
    "\n",
    "detection_threshold = 0.5\n",
    "bbox_coord_conversion = np.array([frame_height, frame_width, frame_height, frame_width])\n",
    "\n",
    "saved_model_dir = \"C:\\\\PATH_TO_SAVED_MODEL_FINED_TUNED\\\\saved_model\"\n",
    "\n",
    "with tf.Session() as sess:\n",
    "    metagraph = tf.saved_model.loader.load(sess, [tf.saved_model.tag_constants.SERVING], saved_model_dir)\n",
    "\n",
    "    input_dict = dict(metagraph.signature_def['serving_default'].inputs)\n",
    "    output_dict = dict(metagraph.signature_def['serving_default'].outputs)\n",
    "\n",
    "    input_tensor = sess.graph.get_tensor_by_name(input_dict['input_tensor'].name)\n",
    "    bounding_boxes = sess.graph.get_tensor_by_name(output_dict['detection_boxes'].name)\n",
    "    box_scores = sess.graph.get_tensor_by_name(output_dict['detection_scores'].name)\n",
    "    box_classes = sess.graph.get_tensor_by_name(output_dict['detection_classes'].name)\n",
    "\n",
    "    while True:\n",
    "        ret, frame = cap.read()\n",
    "        if not ret:\n",
    "            break\n",
    "\n",
    "        cv2.imshow(\"Webcam frame\", frame)\n",
    "\n",
    "        [boxes, scores, classes] = sess.run([bounding_boxes, box_scores, box_classes],\n",
    "                                            feed_dict={input_tensor: np.expand_dims(frame, axis=0)})\n",
    "\n",
    "        detections = boxes[scores > detection_threshold]\n",
    "        detected_classes = classes[scores > detection_threshold]\n",
    "\n",
    "        for obj in zip(detections, detected_classes):\n",
    "            bbox_coord = (obj[0] * bbox_coord_conversion).astype(int)\n",
    "            cv2.rectangle(frame, (bbox_coord[1], bbox_coord[0]), (bbox_coord[3], bbox_coord[2]), (0, 255, 0), 2)\n",
    "            cv2.putText(img=frame,\n",
    "                        text=label_list[obj[1].astype(int)],\n",
    "                        org=(bbox_coord[1], bbox_coord[0]),\n",
    "                        fontFace=cv2.FONT_HERSHEY_SIMPLEX,\n",
    "                        fontScale=1,\n",
    "                        color=(0, 255, 0),\n",
    "                        thickness=2,\n",
    "                        lineType=2)\n",
    "\n",
    "        cv2.imshow(\"Detection frame\", frame)\n",
    "\n",
    "        key = cv2.waitKey(1) & 0xff\n",
    "        if key == ord('q'):\n",
    "            cv2.destroyAllWindows()\n",
    "            break"
   ]
  },
  {
   "cell_type": "code",
   "execution_count": null,
   "id": "28011cee",
   "metadata": {},
   "outputs": [],
   "source": []
  }
 ],
 "metadata": {
  "kernelspec": {
   "display_name": "Python 3 (ipykernel)",
   "language": "python",
   "name": "python3"
  },
  "language_info": {
   "codemirror_mode": {
    "name": "ipython",
    "version": 3
   },
   "file_extension": ".py",
   "mimetype": "text/x-python",
   "name": "python",
   "nbconvert_exporter": "python",
   "pygments_lexer": "ipython3",
   "version": "3.7.13"
  }
 },
 "nbformat": 4,
 "nbformat_minor": 5
}
